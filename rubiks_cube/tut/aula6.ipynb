{
 "cells": [
  {
   "cell_type": "markdown",
   "metadata": {},
   "source": [
    "files i/o é uma maneira de salvar valores de uma maneira \"persistente(?)\""
   ]
  },
  {
   "cell_type": "markdown",
   "metadata": {},
   "source": [
    "`open` => função de, literalmente, abrir um arquivo, mas abrir de forma programática, para o programador poder ler as informações contidas ou escrever nelas.\n",
    "> para os programadores, é o equivalente a dar \"dois-cliques\" para abrir programas    \n",
    "\n",
    "\n",
    "A diferença é que conseguimos especificar o que queremos ler, ou escrever, do arquivo selecionado  \n",
    "Documentação: [OPEN DOCS](http://docs.python.org/3/library/functions.html#open)  \n",
    "É necessário o nome do arquivo que queremos abrir e, opcionalmente, como queremos abri-lo\n"
   ]
  },
  {
   "cell_type": "markdown",
   "metadata": {},
   "source": [
    "### Optional Syntax\n",
    "Caso não exista o arquivo que tu quer abrir, o `open` automaticamente cria ele para ti  \n",
    "\n",
    "**'r'** = open for reading (default/padrão)\n",
    "\n",
    "**'w'** = open for writing, truncating the file first (criar e escrever)\n",
    "\n",
    "**'x'** = open for exclusive creation, failing if the file already exists\n",
    "\n",
    "**'a'** = open for writing, appending to the end of file if it exists (append)\n",
    "\n",
    "**'b'** = binary mode\n",
    "\n",
    "**'t'** = text mode (default)\n",
    "\n",
    "**'+'** = open for updating (reading and writing)"
   ]
  },
  {
   "cell_type": "markdown",
   "metadata": {},
   "source": [
    "---------------------------"
   ]
  },
  {
   "cell_type": "markdown",
   "metadata": {},
   "source": [
    "Podemos usar varios tipos de arquivos além do csv, como \".txt\"\n",
    "`PIL` - [PILLOW](\"https://pillow.readthedocs.io\") => para usar images files  \n",
    "  \n",
    "Como criar um GIF:"
   ]
  },
  {
   "cell_type": "code",
   "execution_count": null,
   "metadata": {},
   "outputs": [],
   "source": [
    "import sys\n",
    "\n",
    "from PIL import Image\n",
    "\n",
    "images = []\n",
    "\n",
    "for arg in sys.argv[1:]:\n",
    "    image = Image.open(arg)\n",
    "    #colocar no terminal os argumentos para criar um GIF\n",
    "    images.append(image)\n",
    "\n",
    "images[0].save(\n",
    "    \"costume.gif\", save_all=True, append_images=[image[1]], duration = 200, loop = 0\n",
    ")\n",
    "#pillow lib faz a mão de abrir, fechar e salvar automaticamente"
   ]
  },
  {
   "cell_type": "markdown",
   "metadata": {},
   "source": [
    "`images[0].save(  \n",
    "    \"costume.gif\", save_all=True, append_image=[image[1]], duration = 200, loop = 0  \n",
    ")"
   ]
  },
  {
   "cell_type": "markdown",
   "metadata": {},
   "source": [
    "costume.gif => o arquivo no qual vai ser salvo  \n",
    "save_all=True => faz com que os valores (nesse caso, os frames do gif) sejam salvos sem precisar ser resgatados todas as vezes que forem utilizados  \n",
    "append_image=[image[1]] => para salvar, também, essa outra imagem ao arquivo, se tivessemos mais, podiamos também expressar isso  \n",
    "duration = 200 => cada frame tera 200ms, ou 1/5 de segundos  \n",
    "loop = 0 => cria um loop infinito, caso quisessemos por um limite de mudança, colocar aqui quantos \"ciclos\" esse programa faria até encerrar"
   ]
  }
 ],
 "metadata": {
  "kernelspec": {
   "display_name": "Python 3.11.1 64-bit",
   "language": "python",
   "name": "python3"
  },
  "language_info": {
   "name": "python",
   "version": "3.11.1"
  },
  "orig_nbformat": 4,
  "vscode": {
   "interpreter": {
    "hash": "5238573367df39f7286bb46f9ff5f08f63a01a80960060ce41e3c79b190280fa"
   }
  }
 },
 "nbformat": 4,
 "nbformat_minor": 2
}
