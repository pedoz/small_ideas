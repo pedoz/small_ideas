{
 "cells": [
  {
   "cell_type": "markdown",
   "metadata": {},
   "source": [
    "This is more of a “guess the word” game. The core concepts you have to use while developing this project are variables, random, integer, strings, char, input and output, and boolean. In the game, users have to enter letter guesses, and each user will have a limited number of guesses (a counter variable is needed for limiting the guesses). The Hangman is among the most highly recommended projects to master python for beginners. \n",
    "\n",
    "You can create a pre-organized list of words that users can grab words from. Also, you must include specific functions to check whether or not a user has entered a single letter or if the input letter is in the hidden word, to if the user has actually inputted a single letter, and to print the correct outcomes (letters)."
   ]
  },
  {
   "cell_type": "markdown",
   "metadata": {},
   "source": [
    "#palavras aleatórias VV\n",
    "\n",
    "#numero limitado de tentativas\n",
    "\n",
    "#função para ver se o usuário colocou uma letra, e apenas uma letra\n",
    "\n",
    "#função para ver se a letra colocada está presente na palavra,\n",
    "    #quantas vezes está\n",
    "        #e aonde está\n",
    "\n"
   ]
  }
 ],
 "metadata": {
  "kernelspec": {
   "display_name": "Python 3.11.1 64-bit",
   "language": "python",
   "name": "python3"
  },
  "language_info": {
   "name": "python",
   "version": "3.11.1"
  },
  "orig_nbformat": 4,
  "vscode": {
   "interpreter": {
    "hash": "5238573367df39f7286bb46f9ff5f08f63a01a80960060ce41e3c79b190280fa"
   }
  }
 },
 "nbformat": 4,
 "nbformat_minor": 2
}
